{
 "cells": [
  {
   "cell_type": "markdown",
   "id": "2f6aa726",
   "metadata": {},
   "source": [
    "# Universidad del Valle de Guatemala\n",
    "## Security Data Science - 10\n",
    "* Jose Abraham Gutierrez Corado - 19111\n",
    "* Javier Alejandro Cotto Argueta - 19324\n",
    "\n",
    "## Laboratorio 2: Detección de SPAM"
   ]
  },
  {
   "cell_type": "code",
   "execution_count": 1,
   "id": "46528089",
   "metadata": {},
   "outputs": [],
   "source": [
    "import pandas as pd\n",
    "import numpy as np\n",
    "import re\n",
    "from collections import Counter\n",
    "from sklearn import feature_extraction, tree, model_selection, metrics\n",
    "from sklearn.model_selection import train_test_split\n",
    "import matplotlib.pyplot as plt\n",
    "import matplotlib\n",
    "import seaborn as sns\n",
    "%matplotlib inline"
   ]
  },
  {
   "cell_type": "markdown",
   "id": "6810e8d3",
   "metadata": {},
   "source": [
    "### Explorar Datos"
   ]
  },
  {
   "cell_type": "code",
   "execution_count": 17,
   "id": "66bb5ae8",
   "metadata": {},
   "outputs": [
    {
     "data": {
      "text/html": [
       "<div>\n",
       "<style scoped>\n",
       "    .dataframe tbody tr th:only-of-type {\n",
       "        vertical-align: middle;\n",
       "    }\n",
       "\n",
       "    .dataframe tbody tr th {\n",
       "        vertical-align: top;\n",
       "    }\n",
       "\n",
       "    .dataframe thead th {\n",
       "        text-align: right;\n",
       "    }\n",
       "</style>\n",
       "<table border=\"1\" class=\"dataframe\">\n",
       "  <thead>\n",
       "    <tr style=\"text-align: right;\">\n",
       "      <th></th>\n",
       "      <th>Body</th>\n",
       "      <th>Label</th>\n",
       "    </tr>\n",
       "  </thead>\n",
       "  <tbody>\n",
       "    <tr>\n",
       "      <th>2906</th>\n",
       "      <td>&gt;&gt;&gt;&gt;&gt; On Fri, 13 Sep 2002, \"Tony\" == Tony Nuge...</td>\n",
       "      <td>0</td>\n",
       "    </tr>\n",
       "    <tr>\n",
       "      <th>5209</th>\n",
       "      <td>&gt;\\n&gt;\\n&gt; The question then becomes, why is know...</td>\n",
       "      <td>0</td>\n",
       "    </tr>\n",
       "    <tr>\n",
       "      <th>3293</th>\n",
       "      <td>Folks, Some of you seem to have hardcoded hono...</td>\n",
       "      <td>0</td>\n",
       "    </tr>\n",
       "    <tr>\n",
       "      <th>4942</th>\n",
       "      <td>\\nThis is a stable beta release.  Please to up...</td>\n",
       "      <td>0</td>\n",
       "    </tr>\n",
       "    <tr>\n",
       "      <th>392</th>\n",
       "      <td>NEED Health Insurance? \\n In addition to featu...</td>\n",
       "      <td>1</td>\n",
       "    </tr>\n",
       "  </tbody>\n",
       "</table>\n",
       "</div>"
      ],
      "text/plain": [
       "                                                   Body  Label\n",
       "2906  >>>>> On Fri, 13 Sep 2002, \"Tony\" == Tony Nuge...      0\n",
       "5209  >\\n>\\n> The question then becomes, why is know...      0\n",
       "3293  Folks, Some of you seem to have hardcoded hono...      0\n",
       "4942  \\nThis is a stable beta release.  Please to up...      0\n",
       "392   NEED Health Insurance? \\n In addition to featu...      1"
      ]
     },
     "execution_count": 17,
     "metadata": {},
     "output_type": "execute_result"
    }
   ],
   "source": [
    "df1 = pd.read_csv('completeSpamAssassin.csv')\n",
    "df1.drop([\"Unnamed: 0\"], axis=1, inplace=True)\n",
    "df1.sample(5)"
   ]
  },
  {
   "cell_type": "code",
   "execution_count": 18,
   "id": "58c47694",
   "metadata": {},
   "outputs": [
    {
     "data": {
      "text/html": [
       "<div>\n",
       "<style scoped>\n",
       "    .dataframe tbody tr th:only-of-type {\n",
       "        vertical-align: middle;\n",
       "    }\n",
       "\n",
       "    .dataframe tbody tr th {\n",
       "        vertical-align: top;\n",
       "    }\n",
       "\n",
       "    .dataframe thead th {\n",
       "        text-align: right;\n",
       "    }\n",
       "</style>\n",
       "<table border=\"1\" class=\"dataframe\">\n",
       "  <thead>\n",
       "    <tr style=\"text-align: right;\">\n",
       "      <th></th>\n",
       "      <th>Body</th>\n",
       "      <th>Label</th>\n",
       "    </tr>\n",
       "  </thead>\n",
       "  <tbody>\n",
       "    <tr>\n",
       "      <th>3390</th>\n",
       "      <td>Subject: soft at incredibly low prices\\n any s...</td>\n",
       "      <td>1</td>\n",
       "    </tr>\n",
       "    <tr>\n",
       "      <th>8557</th>\n",
       "      <td>Subject: vince and vasant :\\n here is a brief ...</td>\n",
       "      <td>0</td>\n",
       "    </tr>\n",
       "    <tr>\n",
       "      <th>4684</th>\n",
       "      <td>Subject: interested in an invitation\\n * this ...</td>\n",
       "      <td>1</td>\n",
       "    </tr>\n",
       "    <tr>\n",
       "      <th>3200</th>\n",
       "      <td>Subject: officiai information from hsbc bank p...</td>\n",
       "      <td>1</td>\n",
       "    </tr>\n",
       "    <tr>\n",
       "      <th>5625</th>\n",
       "      <td>Subject: power trading\\n hi folks :\\n very gla...</td>\n",
       "      <td>0</td>\n",
       "    </tr>\n",
       "  </tbody>\n",
       "</table>\n",
       "</div>"
      ],
      "text/plain": [
       "                                                   Body  Label\n",
       "3390  Subject: soft at incredibly low prices\\n any s...      1\n",
       "8557  Subject: vince and vasant :\\n here is a brief ...      0\n",
       "4684  Subject: interested in an invitation\\n * this ...      1\n",
       "3200  Subject: officiai information from hsbc bank p...      1\n",
       "5625  Subject: power trading\\n hi folks :\\n very gla...      0"
      ]
     },
     "execution_count": 18,
     "metadata": {},
     "output_type": "execute_result"
    }
   ],
   "source": [
    "df2 = pd.read_csv('enronSpamSubset.csv')\n",
    "df2.drop([\"Unnamed: 0.1\", \"Unnamed: 0\"], axis=1, inplace=True)\n",
    "df2.sample(5)"
   ]
  },
  {
   "cell_type": "markdown",
   "id": "55bff890",
   "metadata": {},
   "source": [
    "### Merge de los df's"
   ]
  },
  {
   "cell_type": "code",
   "execution_count": 19,
   "id": "ca162342",
   "metadata": {},
   "outputs": [
    {
     "data": {
      "text/html": [
       "<div>\n",
       "<style scoped>\n",
       "    .dataframe tbody tr th:only-of-type {\n",
       "        vertical-align: middle;\n",
       "    }\n",
       "\n",
       "    .dataframe tbody tr th {\n",
       "        vertical-align: top;\n",
       "    }\n",
       "\n",
       "    .dataframe thead th {\n",
       "        text-align: right;\n",
       "    }\n",
       "</style>\n",
       "<table border=\"1\" class=\"dataframe\">\n",
       "  <thead>\n",
       "    <tr style=\"text-align: right;\">\n",
       "      <th></th>\n",
       "      <th>Body</th>\n",
       "      <th>Label</th>\n",
       "    </tr>\n",
       "  </thead>\n",
       "  <tbody>\n",
       "    <tr>\n",
       "      <th>6390</th>\n",
       "      <td>Subject: mobil beaumont - marol\\n just want to...</td>\n",
       "      <td>0</td>\n",
       "    </tr>\n",
       "    <tr>\n",
       "      <th>7382</th>\n",
       "      <td>Subject: planned pre prc meetings\\n sally ,\\n ...</td>\n",
       "      <td>0</td>\n",
       "    </tr>\n",
       "    <tr>\n",
       "      <th>1423</th>\n",
       "      <td>Subject: shop for holiday gifts . free shippin...</td>\n",
       "      <td>1</td>\n",
       "    </tr>\n",
       "    <tr>\n",
       "      <th>7371</th>\n",
       "      <td>Subject: re : onondaga\\n louise :\\n i ' d like...</td>\n",
       "      <td>0</td>\n",
       "    </tr>\n",
       "    <tr>\n",
       "      <th>1737</th>\n",
       "      <td>Subject: repelled , america ' s growth stocks\\...</td>\n",
       "      <td>1</td>\n",
       "    </tr>\n",
       "  </tbody>\n",
       "</table>\n",
       "</div>"
      ],
      "text/plain": [
       "                                                   Body  Label\n",
       "6390  Subject: mobil beaumont - marol\\n just want to...      0\n",
       "7382  Subject: planned pre prc meetings\\n sally ,\\n ...      0\n",
       "1423  Subject: shop for holiday gifts . free shippin...      1\n",
       "7371  Subject: re : onondaga\\n louise :\\n i ' d like...      0\n",
       "1737  Subject: repelled , america ' s growth stocks\\...      1"
      ]
     },
     "execution_count": 19,
     "metadata": {},
     "output_type": "execute_result"
    }
   ],
   "source": [
    "dfNew = df1.merge(df2, how=\"right\")\n",
    "dfNew.sample(5)"
   ]
  },
  {
   "cell_type": "markdown",
   "id": "a847b4c3",
   "metadata": {},
   "source": [
    "### Pre Procesamiento"
   ]
  },
  {
   "cell_type": "code",
   "execution_count": null,
   "id": "ac2c2ce3",
   "metadata": {},
   "outputs": [],
   "source": [
    "#Conversión de Mayusculas a Minusculas\n",
    "def Conv_Up_to_Low(df):\n",
    "    sentences = []\n",
    "    for sentence in df.Body:\n",
    "        sentences.append(sentence.lower)\n",
    "        \n",
    "    df[\"Body\"] = sentences\n",
    "    \n",
    "    return df\n",
    "\n",
    "#Acentos\n",
    "import unicodedata\n",
    "def acccents(df):\n",
    "    sentences = []\n",
    "    for sentence in df.Body:\n",
    "        sentences.append(unicodedata.normalize('NFKD', sentence).encode('ascii','ignore').decode('utf-8','ignore'))\n",
    "    \n",
    "    df[\"Body\"] = sentences\n",
    "    \n",
    "    return df\n",
    "\n",
    "#Caracteres especiales, números y simbolos\n",
    "import re\n",
    "def removeSpecialCharacters(df):\n",
    "    patron = r'[^a-zA-Z0-9\\s]'\n",
    "    sentences = []\n",
    "    for sentence in df.Body:\n",
    "        if patron in sentence:\n",
    "            sentences.append(sub(patron,'', sentence))\n",
    "        else:\n",
    "            sentences.append(sub(r'[^a-zA-Z\\s]', '', sentence))\n",
    "    \n",
    "    df[\"Body\"] = sentences\n",
    "    \n",
    "#Contracciones en el texto\n",
    "import contractions\n",
    "def contrac(df):\n",
    "    list(contractions.contractions_dict.items())[:10]\n",
    "    sentences = []\n",
    "    for sentence in df.Body:\n",
    "        sentences.append(contractions.fix(sentence))\n",
    "        \n",
    "    df[\"Body\"] = sentences\n",
    "\n",
    "#Stop Words\n",
    "import nltk\n",
    "nltk.download('stopwords')\n",
    "\n",
    "def Stop_word(df):\n",
    "    for sentence in df.Body:\n",
    "        tokens = nltk.word_tokenize(sentence.lower())\n",
    "        stop_words_spanish = nltk.corpus.stopwords.words('spanish')\n",
    "        tokens_filtrados = [token for token in tokens if token not in stop_words_spanish]\n",
    "        stop_words_english = nltk.corpus.stopwords.words('english')\n",
    "        tokens_english = nltk.word_tokenize(contractions.fix(sentence))\n",
    "        tokens_filtrados_english = [token for token in tokens_english if token not in stop_words_english]\n",
    "        sentences.append(tokens_filtrados_english)\n",
    "        \n",
    "\n",
    "\n",
    "#Lemmatization"
   ]
  }
 ],
 "metadata": {
  "kernelspec": {
   "display_name": "Python 3 (ipykernel)",
   "language": "python",
   "name": "python3"
  },
  "language_info": {
   "codemirror_mode": {
    "name": "ipython",
    "version": 3
   },
   "file_extension": ".py",
   "mimetype": "text/x-python",
   "name": "python",
   "nbconvert_exporter": "python",
   "pygments_lexer": "ipython3",
   "version": "3.10.0"
  }
 },
 "nbformat": 4,
 "nbformat_minor": 5
}
